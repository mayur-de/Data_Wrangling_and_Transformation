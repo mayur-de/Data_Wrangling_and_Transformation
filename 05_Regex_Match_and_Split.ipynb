{
 "cells": [
  {
   "cell_type": "markdown",
   "metadata": {},
   "source": [
    "## **Import Libraries and Data**"
   ]
  },
  {
   "cell_type": "code",
   "execution_count": 1,
   "metadata": {},
   "outputs": [],
   "source": [
    "import numpy as np\n",
    "import pandas as pd"
   ]
  },
  {
   "cell_type": "markdown",
   "metadata": {},
   "source": [
    "## **Task: Preprocess the data for further analysis**"
   ]
  },
  {
   "cell_type": "code",
   "execution_count": 2,
   "metadata": {},
   "outputs": [
    {
     "data": {
      "text/html": [
       "<div>\n",
       "<style scoped>\n",
       "    .dataframe tbody tr th:only-of-type {\n",
       "        vertical-align: middle;\n",
       "    }\n",
       "\n",
       "    .dataframe tbody tr th {\n",
       "        vertical-align: top;\n",
       "    }\n",
       "\n",
       "    .dataframe thead th {\n",
       "        text-align: right;\n",
       "    }\n",
       "</style>\n",
       "<table border=\"1\" class=\"dataframe\">\n",
       "  <thead>\n",
       "    <tr style=\"text-align: right;\">\n",
       "      <th></th>\n",
       "      <th>Name Hussein Hakeem Address Number 22 Fioye Crescent Surulere Lagos Age 17 Gender Male</th>\n",
       "    </tr>\n",
       "  </thead>\n",
       "  <tbody>\n",
       "    <tr>\n",
       "      <th>0</th>\n",
       "      <td>Name Arojoye Samuel Address 11 Omolade Close O...</td>\n",
       "    </tr>\n",
       "    <tr>\n",
       "      <th>1</th>\n",
       "      <td>Name Alex Ezurum Address 1 Adamu Lane, Abuja A...</td>\n",
       "    </tr>\n",
       "    <tr>\n",
       "      <th>2</th>\n",
       "      <td>Name Susan Nwaimo Address Number 58 Yaba Stree...</td>\n",
       "    </tr>\n",
       "    <tr>\n",
       "      <th>3</th>\n",
       "      <td>Name Ajao Opeyemi Address No12 Olubunmi Street...</td>\n",
       "    </tr>\n",
       "    <tr>\n",
       "      <th>4</th>\n",
       "      <td>Name Banjoko Adebusola Address 34 Ngige Street...</td>\n",
       "    </tr>\n",
       "    <tr>\n",
       "      <th>5</th>\n",
       "      <td>Name Muhammed Olabisi Address 13, ICAN road, E...</td>\n",
       "    </tr>\n",
       "    <tr>\n",
       "      <th>6</th>\n",
       "      <td>Name Oluwagbemi Mojisola Address ACCA Lane, On...</td>\n",
       "    </tr>\n",
       "  </tbody>\n",
       "</table>\n",
       "</div>"
      ],
      "text/plain": [
       "  Name Hussein Hakeem Address Number 22 Fioye Crescent Surulere Lagos Age 17 Gender Male\n",
       "0  Name Arojoye Samuel Address 11 Omolade Close O...                                    \n",
       "1  Name Alex Ezurum Address 1 Adamu Lane, Abuja A...                                    \n",
       "2  Name Susan Nwaimo Address Number 58 Yaba Stree...                                    \n",
       "3  Name Ajao Opeyemi Address No12 Olubunmi Street...                                    \n",
       "4  Name Banjoko Adebusola Address 34 Ngige Street...                                    \n",
       "5  Name Muhammed Olabisi Address 13, ICAN road, E...                                    \n",
       "6  Name Oluwagbemi Mojisola Address ACCA Lane, On...                                    "
      ]
     },
     "execution_count": 2,
     "metadata": {},
     "output_type": "execute_result"
    }
   ],
   "source": [
    "# Read data\n",
    "\n",
    "data= pd.read_excel(\"Jumbled-up-Customers-Details.xlsx\")\n",
    "data"
   ]
  },
  {
   "cell_type": "markdown",
   "metadata": {},
   "source": [
    "### **Solution:**\n",
    "- We have to create columns as following:\n",
    "    - Name\n",
    "    - Address\n",
    "    - Age\n",
    "    - Gender\n",
    "1. Send column header down as it as data, not metadata.\n",
    "2. Use re.search function to search specific pattern and group them into columns\n",
    "3. Create a function that does all this."
   ]
  },
  {
   "cell_type": "code",
   "execution_count": 3,
   "metadata": {},
   "outputs": [
    {
     "data": {
      "text/html": [
       "<div>\n",
       "<style scoped>\n",
       "    .dataframe tbody tr th:only-of-type {\n",
       "        vertical-align: middle;\n",
       "    }\n",
       "\n",
       "    .dataframe tbody tr th {\n",
       "        vertical-align: top;\n",
       "    }\n",
       "\n",
       "    .dataframe thead th {\n",
       "        text-align: right;\n",
       "    }\n",
       "</style>\n",
       "<table border=\"1\" class=\"dataframe\">\n",
       "  <thead>\n",
       "    <tr style=\"text-align: right;\">\n",
       "      <th></th>\n",
       "      <th>Personal Details</th>\n",
       "    </tr>\n",
       "  </thead>\n",
       "  <tbody>\n",
       "    <tr>\n",
       "      <th>0</th>\n",
       "      <td>Name Arojoye Samuel Address 11 Omolade Close O...</td>\n",
       "    </tr>\n",
       "    <tr>\n",
       "      <th>1</th>\n",
       "      <td>Name Alex Ezurum Address 1 Adamu Lane, Abuja A...</td>\n",
       "    </tr>\n",
       "    <tr>\n",
       "      <th>2</th>\n",
       "      <td>Name Susan Nwaimo Address Number 58 Yaba Stree...</td>\n",
       "    </tr>\n",
       "    <tr>\n",
       "      <th>3</th>\n",
       "      <td>Name Ajao Opeyemi Address No12 Olubunmi Street...</td>\n",
       "    </tr>\n",
       "    <tr>\n",
       "      <th>4</th>\n",
       "      <td>Name Banjoko Adebusola Address 34 Ngige Street...</td>\n",
       "    </tr>\n",
       "    <tr>\n",
       "      <th>5</th>\n",
       "      <td>Name Muhammed Olabisi Address 13, ICAN road, E...</td>\n",
       "    </tr>\n",
       "    <tr>\n",
       "      <th>6</th>\n",
       "      <td>Name Oluwagbemi Mojisola Address ACCA Lane, On...</td>\n",
       "    </tr>\n",
       "    <tr>\n",
       "      <th>7</th>\n",
       "      <td>Name Hussein Hakeem Address Number 22 Fioye Cr...</td>\n",
       "    </tr>\n",
       "  </tbody>\n",
       "</table>\n",
       "</div>"
      ],
      "text/plain": [
       "                                    Personal Details\n",
       "0  Name Arojoye Samuel Address 11 Omolade Close O...\n",
       "1  Name Alex Ezurum Address 1 Adamu Lane, Abuja A...\n",
       "2  Name Susan Nwaimo Address Number 58 Yaba Stree...\n",
       "3  Name Ajao Opeyemi Address No12 Olubunmi Street...\n",
       "4  Name Banjoko Adebusola Address 34 Ngige Street...\n",
       "5  Name Muhammed Olabisi Address 13, ICAN road, E...\n",
       "6  Name Oluwagbemi Mojisola Address ACCA Lane, On...\n",
       "7  Name Hussein Hakeem Address Number 22 Fioye Cr..."
      ]
     },
     "execution_count": 3,
     "metadata": {},
     "output_type": "execute_result"
    }
   ],
   "source": [
    "# Push the column header as row and allocate it a random index using \"loc\"\n",
    "data.loc[10] = data.columns[0]\n",
    "\n",
    "# Rename the column header\n",
    "data.rename(columns= {data.columns[0]: \"Personal Details\"}, inplace= True)\n",
    "\n",
    "# Reset the index\n",
    "data.reset_index(drop=True, inplace=True)\n",
    "\n",
    "data"
   ]
  },
  {
   "cell_type": "code",
   "execution_count": 4,
   "metadata": {},
   "outputs": [
    {
     "name": "stdout",
     "output_type": "stream",
     "text": [
      "                                                                         Personal Details\n",
      "0      Name Arojoye Samuel Address 11 Omolade Close Omole Estate Lagos Age 16 Gender Male\n",
      "1                         Name Alex Ezurum Address 1 Adamu Lane, Abuja Age 14 Gender Male\n",
      "2     Name Susan Nwaimo Address Number 58 Yaba Street, Kaduna State  Age 16 Gender Female\n",
      "3           Name Ajao Opeyemi Address No12 Olubunmi Street, Abeokuta Age 18 Gender Female\n",
      "4      Name Banjoko Adebusola Address 34 Ngige Street, Ugheli, Delta Age 14 Gender Female\n",
      "5                 Name Muhammed Olabisi Address 13, ICAN road, Enugu Age 12 Gender Female\n",
      "6                Name Oluwagbemi Mojisola Address ACCA Lane, Onitsha Age 13 Gender Female\n",
      "7  Name Hussein Hakeem Address Number 22 Fioye Crescent Surulere Lagos Age 17 Gender Male\n"
     ]
    }
   ],
   "source": [
    "# View all data\n",
    "\n",
    "print(data.to_string())"
   ]
  },
  {
   "cell_type": "code",
   "execution_count": 5,
   "metadata": {},
   "outputs": [],
   "source": [
    "# Create a function using regex\n",
    "import re\n",
    "\n",
    "def extract_deails (row):\n",
    "    match = re.search(r\"Name (.+?) Address (.+?) Age (\\d+) Gender (.+)\", row)\n",
    "    \n",
    "    if match:\n",
    "        name = match.group(1)\n",
    "        address= match.group(2)\n",
    "        age= match.group(3)\n",
    "        gender= match.group(4)\n",
    "        \n",
    "        return pd.Series([name, address, age, gender])\n",
    "    \n",
    "    return pd.Series([None, None, None, None])"
   ]
  },
  {
   "cell_type": "code",
   "execution_count": 6,
   "metadata": {},
   "outputs": [
    {
     "data": {
      "text/html": [
       "<div>\n",
       "<style scoped>\n",
       "    .dataframe tbody tr th:only-of-type {\n",
       "        vertical-align: middle;\n",
       "    }\n",
       "\n",
       "    .dataframe tbody tr th {\n",
       "        vertical-align: top;\n",
       "    }\n",
       "\n",
       "    .dataframe thead th {\n",
       "        text-align: right;\n",
       "    }\n",
       "</style>\n",
       "<table border=\"1\" class=\"dataframe\">\n",
       "  <thead>\n",
       "    <tr style=\"text-align: right;\">\n",
       "      <th></th>\n",
       "      <th>name</th>\n",
       "      <th>address</th>\n",
       "      <th>age</th>\n",
       "      <th>gender</th>\n",
       "    </tr>\n",
       "  </thead>\n",
       "  <tbody>\n",
       "    <tr>\n",
       "      <th>0</th>\n",
       "      <td>Arojoye Samuel</td>\n",
       "      <td>11 Omolade Close Omole Estate Lagos</td>\n",
       "      <td>16</td>\n",
       "      <td>Male</td>\n",
       "    </tr>\n",
       "    <tr>\n",
       "      <th>1</th>\n",
       "      <td>Alex Ezurum</td>\n",
       "      <td>1 Adamu Lane, Abuja</td>\n",
       "      <td>14</td>\n",
       "      <td>Male</td>\n",
       "    </tr>\n",
       "    <tr>\n",
       "      <th>2</th>\n",
       "      <td>Susan Nwaimo</td>\n",
       "      <td>Number 58 Yaba Street, Kaduna State</td>\n",
       "      <td>16</td>\n",
       "      <td>Female</td>\n",
       "    </tr>\n",
       "    <tr>\n",
       "      <th>3</th>\n",
       "      <td>Ajao Opeyemi</td>\n",
       "      <td>No12 Olubunmi Street, Abeokuta</td>\n",
       "      <td>18</td>\n",
       "      <td>Female</td>\n",
       "    </tr>\n",
       "    <tr>\n",
       "      <th>4</th>\n",
       "      <td>Banjoko Adebusola</td>\n",
       "      <td>34 Ngige Street, Ugheli, Delta</td>\n",
       "      <td>14</td>\n",
       "      <td>Female</td>\n",
       "    </tr>\n",
       "    <tr>\n",
       "      <th>5</th>\n",
       "      <td>Muhammed Olabisi</td>\n",
       "      <td>13, ICAN road, Enugu</td>\n",
       "      <td>12</td>\n",
       "      <td>Female</td>\n",
       "    </tr>\n",
       "    <tr>\n",
       "      <th>6</th>\n",
       "      <td>Oluwagbemi Mojisola</td>\n",
       "      <td>ACCA Lane, Onitsha</td>\n",
       "      <td>13</td>\n",
       "      <td>Female</td>\n",
       "    </tr>\n",
       "    <tr>\n",
       "      <th>7</th>\n",
       "      <td>Hussein Hakeem</td>\n",
       "      <td>Number 22 Fioye Crescent Surulere Lagos</td>\n",
       "      <td>17</td>\n",
       "      <td>Male</td>\n",
       "    </tr>\n",
       "  </tbody>\n",
       "</table>\n",
       "</div>"
      ],
      "text/plain": [
       "                  name                                  address age  gender\n",
       "0       Arojoye Samuel      11 Omolade Close Omole Estate Lagos  16    Male\n",
       "1          Alex Ezurum                      1 Adamu Lane, Abuja  14    Male\n",
       "2         Susan Nwaimo     Number 58 Yaba Street, Kaduna State   16  Female\n",
       "3         Ajao Opeyemi           No12 Olubunmi Street, Abeokuta  18  Female\n",
       "4    Banjoko Adebusola           34 Ngige Street, Ugheli, Delta  14  Female\n",
       "5     Muhammed Olabisi                     13, ICAN road, Enugu  12  Female\n",
       "6  Oluwagbemi Mojisola                       ACCA Lane, Onitsha  13  Female\n",
       "7       Hussein Hakeem  Number 22 Fioye Crescent Surulere Lagos  17    Male"
      ]
     },
     "execution_count": 6,
     "metadata": {},
     "output_type": "execute_result"
    }
   ],
   "source": [
    "# Apply function\n",
    "data[[\"name\", \"address\", \"age\", \"gender\"]] = data['Personal Details'].apply(extract_deails)\n",
    "\n",
    "# Drop Personal Details column\n",
    "data.drop(columns= \"Personal Details\", inplace= True)\n",
    "\n",
    "data"
   ]
  },
  {
   "cell_type": "code",
   "execution_count": 7,
   "metadata": {},
   "outputs": [],
   "source": [
    "# Save the transformed data to original file\n",
    "\n",
    "with pd.ExcelWriter(\"Jumbled-up-Customers-Details.xlsx\", engine= \"openpyxl\", mode= 'a') as writer:\n",
    "    data.to_excel(writer, sheet_name= \"Transformed_data\", index= False)"
   ]
  },
  {
   "cell_type": "code",
   "execution_count": null,
   "metadata": {},
   "outputs": [],
   "source": []
  },
  {
   "cell_type": "code",
   "execution_count": null,
   "metadata": {},
   "outputs": [],
   "source": []
  }
 ],
 "metadata": {
  "kernelspec": {
   "display_name": "base",
   "language": "python",
   "name": "python3"
  },
  "language_info": {
   "codemirror_mode": {
    "name": "ipython",
    "version": 3
   },
   "file_extension": ".py",
   "mimetype": "text/x-python",
   "name": "python",
   "nbconvert_exporter": "python",
   "pygments_lexer": "ipython3",
   "version": "3.12.7"
  }
 },
 "nbformat": 4,
 "nbformat_minor": 2
}
